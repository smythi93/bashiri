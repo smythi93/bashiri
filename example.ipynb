{
 "cells": [
  {
   "cell_type": "code",
   "execution_count": 1,
   "id": "initial_id",
   "metadata": {
    "ExecuteTime": {
     "end_time": "2025-07-23T22:15:22.816973Z",
     "start_time": "2025-07-23T22:15:22.810096Z"
    }
   },
   "outputs": [],
   "source": [
    "def middle(x, y, z):\n",
    "    if y < z:\n",
    "        if x < y:\n",
    "            return y\n",
    "        elif x < z:\n",
    "            return y\n",
    "    else:\n",
    "        if x > y:\n",
    "            return y\n",
    "        elif x > z:\n",
    "            return x\n",
    "    return z"
   ]
  },
  {
   "cell_type": "code",
   "execution_count": 2,
   "id": "4cfa82e759fba6fc",
   "metadata": {
    "ExecuteTime": {
     "end_time": "2025-07-23T22:15:22.859170Z",
     "start_time": "2025-07-23T22:15:22.857485Z"
    },
    "collapsed": false,
    "jupyter": {
     "outputs_hidden": false
    }
   },
   "outputs": [],
   "source": [
    "import inspect"
   ]
  },
  {
   "cell_type": "code",
   "execution_count": 3,
   "id": "365a80638eefa8dc",
   "metadata": {
    "ExecuteTime": {
     "end_time": "2025-07-23T22:15:22.867902Z",
     "start_time": "2025-07-23T22:15:22.865648Z"
    },
    "collapsed": false,
    "jupyter": {
     "outputs_hidden": false
    }
   },
   "outputs": [
    {
     "name": "stdout",
     "output_type": "stream",
     "text": [
      "def middle(x, y, z):\n",
      "    if y < z:\n",
      "        if x < y:\n",
      "            return y\n",
      "        elif x < z:\n",
      "            return y\n",
      "    else:\n",
      "        if x > y:\n",
      "            return y\n",
      "        elif x > z:\n",
      "            return x\n",
      "    return z\n",
      "\n"
     ]
    }
   ],
   "source": [
    "source = inspect.getsource(middle)\n",
    "print(source)"
   ]
  },
  {
   "cell_type": "code",
   "execution_count": 4,
   "id": "17bec2a7bcd08d95",
   "metadata": {
    "ExecuteTime": {
     "end_time": "2025-07-23T22:15:22.874954Z",
     "start_time": "2025-07-23T22:15:22.873351Z"
    },
    "collapsed": false,
    "jupyter": {
     "outputs_hidden": false
    }
   },
   "outputs": [],
   "source": [
    "middle_py = 'middle.py'\n",
    "tmp_py = 'tmp.py'"
   ]
  },
  {
   "cell_type": "code",
   "execution_count": 5,
   "id": "12c6584a43e441f3",
   "metadata": {
    "ExecuteTime": {
     "end_time": "2025-07-23T22:15:22.886720Z",
     "start_time": "2025-07-23T22:15:22.884322Z"
    },
    "collapsed": false,
    "jupyter": {
     "outputs_hidden": false
    }
   },
   "outputs": [],
   "source": [
    "with open(middle_py, 'w') as fp:\n",
    "    fp.write(\"import sys\\n\\n\" + source + \"\"\"\n",
    "\n",
    "if __name__ == \"__main__\":\n",
    "    print(middle(*list(map(int, sys.argv[1:]))))\n",
    "\n",
    "\"\"\")"
   ]
  },
  {
   "cell_type": "code",
   "execution_count": 6,
   "id": "4a38e95e682eac44",
   "metadata": {
    "ExecuteTime": {
     "end_time": "2025-07-23T22:15:24.468933Z",
     "start_time": "2025-07-23T22:15:22.894578Z"
    },
    "collapsed": false,
    "jupyter": {
     "outputs_hidden": false
    }
   },
   "outputs": [],
   "source": [
    "from bashiri.events import instrument"
   ]
  },
  {
   "cell_type": "code",
   "execution_count": 7,
   "id": "5b5f414257825406",
   "metadata": {
    "ExecuteTime": {
     "end_time": "2025-07-23T22:15:24.488592Z",
     "start_time": "2025-07-23T22:15:24.476308Z"
    },
    "collapsed": false,
    "jupyter": {
     "outputs_hidden": false
    }
   },
   "outputs": [
    {
     "name": "stderr",
     "output_type": "stream",
     "text": [
      "sflkit :: INFO     :: I found 107 events in middle.py.\n",
      "sflkit :: INFO     :: I found 107 events in middle.py.\n"
     ]
    }
   ],
   "source": [
    "instrument(middle_py, tmp_py, \"middle.json\")"
   ]
  },
  {
   "cell_type": "code",
   "execution_count": 8,
   "id": "a2c32c47b3331066",
   "metadata": {
    "ExecuteTime": {
     "end_time": "2025-07-23T22:15:24.496511Z",
     "start_time": "2025-07-23T22:15:24.494262Z"
    },
    "collapsed": false,
    "jupyter": {
     "outputs_hidden": false
    }
   },
   "outputs": [
    {
     "name": "stdout",
     "output_type": "stream",
     "text": [
      "import sflkitlib.lib\n",
      "sflkitlib.lib.add_line_event(0)\n",
      "sflkitlib.lib.add_test_line_event(1)\n",
      "import sys\n",
      "\n",
      "def middle(x, y, z):\n",
      "    try:\n",
      "        sflkitlib.lib.add_function_enter_event(2)\n",
      "        sk_tmp_76611e02_0 = None\n",
      "        sflkitlib.lib.add_def_event(5, sflkitlib.lib.get_id(x), x, sflkitlib.lib.get_type(x))\n",
      "        sflkitlib.lib.add_def_event(6, sflkitlib.lib.get_id(y), y, sflkitlib.lib.get_type(y))\n",
      "        sflkitlib.lib.add_def_event(7, sflkitlib.lib.get_id(z), z, sflkitlib.lib.get_type(z))\n",
      "        try:\n",
      "            sflkitlib.lib.add_len_event(8, sflkitlib.lib.get_id(x), len(x))\n",
      "        except (AttributeError, TypeError, NameError):\n",
      "            pass\n",
      "        try:\n",
      "            sflkitlib.lib.add_len_event(9, sflkitlib.lib.get_id(y), len(y))\n",
      "        except (AttributeError, TypeError, NameError):\n",
      "            pass\n",
      "        try:\n",
      "            sflkitlib.lib.add_len_event(10, sflkitlib.lib.get_id(z), len(z))\n",
      "        except (AttributeError, TypeError, NameError):\n",
      "            pass\n",
      "        sflkitlib.lib.add_test_def_event(11, sflkitlib.lib.get_id(x))\n",
      "        sflkitlib.lib.add_test_def_event(12, sflkitlib.lib.get_id(y))\n",
      "        sflkitlib.lib.add_test_def_event(13, sflkitlib.lib.get_id(z))\n",
      "        sflkitlib.lib.add_line_event(14)\n",
      "        try:\n",
      "            sflkitlib.lib.add_use_event(17, sflkitlib.lib.get_id(y))\n",
      "        except (AttributeError, TypeError, NameError):\n",
      "            pass\n",
      "        try:\n",
      "            sflkitlib.lib.add_use_event(18, sflkitlib.lib.get_id(z))\n",
      "        except (AttributeError, TypeError, NameError):\n",
      "            pass\n",
      "        sk_tmp_76611e02_1 = y < z\n",
      "        sflkitlib.lib.add_condition_event(19, sk_tmp_76611e02_1)\n",
      "        sflkitlib.lib.add_test_line_event(20)\n",
      "        try:\n",
      "            sflkitlib.lib.add_test_use_event(21, sflkitlib.lib.get_id(y))\n",
      "        except (AttributeError, TypeError, NameError):\n",
      "            pass\n",
      "        try:\n",
      "            sflkitlib.lib.add_test_use_event(22, sflkitlib.lib.get_id(z))\n",
      "        except (AttributeError, TypeError, NameError):\n",
      "            pass\n",
      "        if sk_tmp_76611e02_1:\n",
      "            sflkitlib.lib.add_branch_event(15)\n",
      "            sflkitlib.lib.add_line_event(23)\n",
      "            try:\n",
      "                sflkitlib.lib.add_use_event(26, sflkitlib.lib.get_id(x))\n",
      "            except (AttributeError, TypeError, NameError):\n",
      "                pass\n",
      "            try:\n",
      "                sflkitlib.lib.add_use_event(27, sflkitlib.lib.get_id(y))\n",
      "            except (AttributeError, TypeError, NameError):\n",
      "                pass\n",
      "            sk_tmp_76611e02_2 = x < y\n",
      "            sflkitlib.lib.add_condition_event(28, sk_tmp_76611e02_2)\n",
      "            sflkitlib.lib.add_test_line_event(29)\n",
      "            try:\n",
      "                sflkitlib.lib.add_test_use_event(30, sflkitlib.lib.get_id(x))\n",
      "            except (AttributeError, TypeError, NameError):\n",
      "                pass\n",
      "            try:\n",
      "                sflkitlib.lib.add_test_use_event(31, sflkitlib.lib.get_id(y))\n",
      "            except (AttributeError, TypeError, NameError):\n",
      "                pass\n",
      "            if sk_tmp_76611e02_2:\n",
      "                sflkitlib.lib.add_branch_event(24)\n",
      "                sflkitlib.lib.add_line_event(32)\n",
      "                sk_tmp_76611e02_0 = y\n",
      "                sflkitlib.lib.add_function_exit_event(33, sk_tmp_76611e02_0, sflkitlib.lib.get_type(sk_tmp_76611e02_0))\n",
      "                try:\n",
      "                    sflkitlib.lib.add_use_event(34, sflkitlib.lib.get_id(y))\n",
      "                except (AttributeError, TypeError, NameError):\n",
      "                    pass\n",
      "                sflkitlib.lib.add_test_line_event(35)\n",
      "                try:\n",
      "                    sflkitlib.lib.add_test_use_event(36, sflkitlib.lib.get_id(y))\n",
      "                except (AttributeError, TypeError, NameError):\n",
      "                    pass\n",
      "                return sk_tmp_76611e02_0\n",
      "            else:\n",
      "                sflkitlib.lib.add_branch_event(25)\n",
      "                sflkitlib.lib.add_line_event(37)\n",
      "                try:\n",
      "                    sflkitlib.lib.add_use_event(40, sflkitlib.lib.get_id(x))\n",
      "                except (AttributeError, TypeError, NameError):\n",
      "                    pass\n",
      "                try:\n",
      "                    sflkitlib.lib.add_use_event(41, sflkitlib.lib.get_id(z))\n",
      "                except (AttributeError, TypeError, NameError):\n",
      "                    pass\n",
      "                sk_tmp_76611e02_3 = x < z\n",
      "                sflkitlib.lib.add_condition_event(42, sk_tmp_76611e02_3)\n",
      "                sflkitlib.lib.add_test_line_event(43)\n",
      "                try:\n",
      "                    sflkitlib.lib.add_test_use_event(44, sflkitlib.lib.get_id(x))\n",
      "                except (AttributeError, TypeError, NameError):\n",
      "                    pass\n",
      "                try:\n",
      "                    sflkitlib.lib.add_test_use_event(45, sflkitlib.lib.get_id(z))\n",
      "                except (AttributeError, TypeError, NameError):\n",
      "                    pass\n",
      "                if sk_tmp_76611e02_3:\n",
      "                    sflkitlib.lib.add_branch_event(38)\n",
      "                    sflkitlib.lib.add_line_event(46)\n",
      "                    sk_tmp_76611e02_0 = y\n",
      "                    sflkitlib.lib.add_function_exit_event(47, sk_tmp_76611e02_0, sflkitlib.lib.get_type(sk_tmp_76611e02_0))\n",
      "                    try:\n",
      "                        sflkitlib.lib.add_use_event(48, sflkitlib.lib.get_id(y))\n",
      "                    except (AttributeError, TypeError, NameError):\n",
      "                        pass\n",
      "                    sflkitlib.lib.add_test_line_event(49)\n",
      "                    try:\n",
      "                        sflkitlib.lib.add_test_use_event(50, sflkitlib.lib.get_id(y))\n",
      "                    except (AttributeError, TypeError, NameError):\n",
      "                        pass\n",
      "                    return sk_tmp_76611e02_0\n",
      "                else:\n",
      "                    sflkitlib.lib.add_branch_event(39)\n",
      "        else:\n",
      "            sflkitlib.lib.add_branch_event(16)\n",
      "            sflkitlib.lib.add_line_event(51)\n",
      "            try:\n",
      "                sflkitlib.lib.add_use_event(54, sflkitlib.lib.get_id(x))\n",
      "            except (AttributeError, TypeError, NameError):\n",
      "                pass\n",
      "            try:\n",
      "                sflkitlib.lib.add_use_event(55, sflkitlib.lib.get_id(y))\n",
      "            except (AttributeError, TypeError, NameError):\n",
      "                pass\n",
      "            sk_tmp_76611e02_4 = x > y\n",
      "            sflkitlib.lib.add_condition_event(56, sk_tmp_76611e02_4)\n",
      "            sflkitlib.lib.add_test_line_event(57)\n",
      "            try:\n",
      "                sflkitlib.lib.add_test_use_event(58, sflkitlib.lib.get_id(x))\n",
      "            except (AttributeError, TypeError, NameError):\n",
      "                pass\n",
      "            try:\n",
      "                sflkitlib.lib.add_test_use_event(59, sflkitlib.lib.get_id(y))\n",
      "            except (AttributeError, TypeError, NameError):\n",
      "                pass\n",
      "            if sk_tmp_76611e02_4:\n",
      "                sflkitlib.lib.add_branch_event(52)\n",
      "                sflkitlib.lib.add_line_event(60)\n",
      "                sk_tmp_76611e02_0 = y\n",
      "                sflkitlib.lib.add_function_exit_event(61, sk_tmp_76611e02_0, sflkitlib.lib.get_type(sk_tmp_76611e02_0))\n",
      "                try:\n",
      "                    sflkitlib.lib.add_use_event(62, sflkitlib.lib.get_id(y))\n",
      "                except (AttributeError, TypeError, NameError):\n",
      "                    pass\n",
      "                sflkitlib.lib.add_test_line_event(63)\n",
      "                try:\n",
      "                    sflkitlib.lib.add_test_use_event(64, sflkitlib.lib.get_id(y))\n",
      "                except (AttributeError, TypeError, NameError):\n",
      "                    pass\n",
      "                return sk_tmp_76611e02_0\n",
      "            else:\n",
      "                sflkitlib.lib.add_branch_event(53)\n",
      "                sflkitlib.lib.add_line_event(65)\n",
      "                try:\n",
      "                    sflkitlib.lib.add_use_event(68, sflkitlib.lib.get_id(x))\n",
      "                except (AttributeError, TypeError, NameError):\n",
      "                    pass\n",
      "                try:\n",
      "                    sflkitlib.lib.add_use_event(69, sflkitlib.lib.get_id(z))\n",
      "                except (AttributeError, TypeError, NameError):\n",
      "                    pass\n",
      "                sk_tmp_76611e02_5 = x > z\n",
      "                sflkitlib.lib.add_condition_event(70, sk_tmp_76611e02_5)\n",
      "                sflkitlib.lib.add_test_line_event(71)\n",
      "                try:\n",
      "                    sflkitlib.lib.add_test_use_event(72, sflkitlib.lib.get_id(x))\n",
      "                except (AttributeError, TypeError, NameError):\n",
      "                    pass\n",
      "                try:\n",
      "                    sflkitlib.lib.add_test_use_event(73, sflkitlib.lib.get_id(z))\n",
      "                except (AttributeError, TypeError, NameError):\n",
      "                    pass\n",
      "                if sk_tmp_76611e02_5:\n",
      "                    sflkitlib.lib.add_branch_event(66)\n",
      "                    sflkitlib.lib.add_line_event(74)\n",
      "                    sk_tmp_76611e02_0 = x\n",
      "                    sflkitlib.lib.add_function_exit_event(75, sk_tmp_76611e02_0, sflkitlib.lib.get_type(sk_tmp_76611e02_0))\n",
      "                    try:\n",
      "                        sflkitlib.lib.add_use_event(76, sflkitlib.lib.get_id(x))\n",
      "                    except (AttributeError, TypeError, NameError):\n",
      "                        pass\n",
      "                    sflkitlib.lib.add_test_line_event(77)\n",
      "                    try:\n",
      "                        sflkitlib.lib.add_test_use_event(78, sflkitlib.lib.get_id(x))\n",
      "                    except (AttributeError, TypeError, NameError):\n",
      "                        pass\n",
      "                    return sk_tmp_76611e02_0\n",
      "                else:\n",
      "                    sflkitlib.lib.add_branch_event(67)\n",
      "        sflkitlib.lib.add_line_event(79)\n",
      "        sk_tmp_76611e02_0 = z\n",
      "        sflkitlib.lib.add_function_exit_event(80, sk_tmp_76611e02_0, sflkitlib.lib.get_type(sk_tmp_76611e02_0))\n",
      "        try:\n",
      "            sflkitlib.lib.add_use_event(81, sflkitlib.lib.get_id(z))\n",
      "        except (AttributeError, TypeError, NameError):\n",
      "            pass\n",
      "        sflkitlib.lib.add_test_line_event(82)\n",
      "        try:\n",
      "            sflkitlib.lib.add_test_use_event(83, sflkitlib.lib.get_id(z))\n",
      "        except (AttributeError, TypeError, NameError):\n",
      "            pass\n",
      "        return sk_tmp_76611e02_0\n",
      "        sflkitlib.lib.add_function_exit_event(3, sk_tmp_76611e02_0, sflkitlib.lib.get_type(sk_tmp_76611e02_0))\n",
      "    except BaseException as sk_tmp_76611e02_6:\n",
      "        sflkitlib.lib.add_function_error_event(4)\n",
      "        raise sk_tmp_76611e02_6\n",
      "sflkitlib.lib.add_line_event(84)\n",
      "try:\n",
      "    sflkitlib.lib.add_use_event(87, sflkitlib.lib.get_id(__name__))\n",
      "except (AttributeError, TypeError, NameError):\n",
      "    pass\n",
      "sk_tmp_76611e02_7 = __name__ == '__main__'\n",
      "sflkitlib.lib.add_condition_event(88, sk_tmp_76611e02_7)\n",
      "sflkitlib.lib.add_test_line_event(89)\n",
      "try:\n",
      "    sflkitlib.lib.add_test_use_event(90, sflkitlib.lib.get_id(__name__))\n",
      "except (AttributeError, TypeError, NameError):\n",
      "    pass\n",
      "if sk_tmp_76611e02_7:\n",
      "    sflkitlib.lib.add_branch_event(85)\n",
      "    sflkitlib.lib.add_line_event(91)\n",
      "    try:\n",
      "        sflkitlib.lib.add_use_event(92, sflkitlib.lib.get_id(int))\n",
      "    except (AttributeError, TypeError, NameError):\n",
      "        pass\n",
      "    try:\n",
      "        sflkitlib.lib.add_use_event(93, sflkitlib.lib.get_id(sys))\n",
      "    except (AttributeError, TypeError, NameError):\n",
      "        pass\n",
      "    try:\n",
      "        if not hasattr(sys.__class__, 'argv') or not isinstance(sys.__class__.argv, property):\n",
      "            sflkitlib.lib.add_use_event(94, sflkitlib.lib.get_id(sys.argv))\n",
      "    except (AttributeError, TypeError, NameError):\n",
      "        pass\n",
      "    try:\n",
      "        sflkitlib.lib.add_use_event(95, sflkitlib.lib.get_id(map))\n",
      "    except (AttributeError, TypeError, NameError):\n",
      "        pass\n",
      "    try:\n",
      "        sflkitlib.lib.add_use_event(96, sflkitlib.lib.get_id(list))\n",
      "    except (AttributeError, TypeError, NameError):\n",
      "        pass\n",
      "    try:\n",
      "        sflkitlib.lib.add_use_event(97, sflkitlib.lib.get_id(middle))\n",
      "    except (AttributeError, TypeError, NameError):\n",
      "        pass\n",
      "    try:\n",
      "        sflkitlib.lib.add_use_event(98, sflkitlib.lib.get_id(print))\n",
      "    except (AttributeError, TypeError, NameError):\n",
      "        pass\n",
      "    sflkitlib.lib.add_test_line_event(99)\n",
      "    try:\n",
      "        sflkitlib.lib.add_test_use_event(100, sflkitlib.lib.get_id(int))\n",
      "    except (AttributeError, TypeError, NameError):\n",
      "        pass\n",
      "    try:\n",
      "        sflkitlib.lib.add_test_use_event(101, sflkitlib.lib.get_id(sys))\n",
      "    except (AttributeError, TypeError, NameError):\n",
      "        pass\n",
      "    try:\n",
      "        if not hasattr(sys.__class__, 'argv') or not isinstance(sys.__class__.argv, property):\n",
      "            sflkitlib.lib.add_test_use_event(102, sflkitlib.lib.get_id(sys.argv))\n",
      "    except (AttributeError, TypeError, NameError):\n",
      "        pass\n",
      "    try:\n",
      "        sflkitlib.lib.add_test_use_event(103, sflkitlib.lib.get_id(map))\n",
      "    except (AttributeError, TypeError, NameError):\n",
      "        pass\n",
      "    try:\n",
      "        sflkitlib.lib.add_test_use_event(104, sflkitlib.lib.get_id(list))\n",
      "    except (AttributeError, TypeError, NameError):\n",
      "        pass\n",
      "    try:\n",
      "        sflkitlib.lib.add_test_use_event(105, sflkitlib.lib.get_id(middle))\n",
      "    except (AttributeError, TypeError, NameError):\n",
      "        pass\n",
      "    try:\n",
      "        sflkitlib.lib.add_test_use_event(106, sflkitlib.lib.get_id(print))\n",
      "    except (AttributeError, TypeError, NameError):\n",
      "        pass\n",
      "    print(middle(*list(map(int, sys.argv[1:]))))\n",
      "else:\n",
      "    sflkitlib.lib.add_branch_event(86)\n"
     ]
    }
   ],
   "source": [
    "with open(tmp_py, 'r') as fp:\n",
    "    print(fp.read())"
   ]
  },
  {
   "cell_type": "code",
   "execution_count": 9,
   "id": "533036428a39aeff",
   "metadata": {
    "ExecuteTime": {
     "end_time": "2025-07-23T22:15:24.506762Z",
     "start_time": "2025-07-23T22:15:24.504867Z"
    },
    "collapsed": false,
    "jupyter": {
     "outputs_hidden": false
    }
   },
   "outputs": [],
   "source": [
    "import subprocess"
   ]
  },
  {
   "cell_type": "code",
   "execution_count": 10,
   "id": "e662ee2fbaa75c97",
   "metadata": {
    "ExecuteTime": {
     "end_time": "2025-07-23T22:15:24.556682Z",
     "start_time": "2025-07-23T22:15:24.517765Z"
    },
    "collapsed": false,
    "jupyter": {
     "outputs_hidden": false
    }
   },
   "outputs": [
    {
     "name": "stdout",
     "output_type": "stream",
     "text": [
      "2\n"
     ]
    },
    {
     "data": {
      "text/plain": [
       "CompletedProcess(args=['python', 'middle.py', '2', '3', '1'], returncode=0)"
      ]
     },
     "execution_count": 10,
     "metadata": {},
     "output_type": "execute_result"
    }
   ],
   "source": [
    "subprocess.run([\"python\", middle_py, \"2\", \"3\", \"1\"])"
   ]
  },
  {
   "cell_type": "code",
   "execution_count": 11,
   "id": "a258c9718d82a340",
   "metadata": {
    "ExecuteTime": {
     "end_time": "2025-07-23T22:15:24.562891Z",
     "start_time": "2025-07-23T22:15:24.560627Z"
    },
    "collapsed": false,
    "jupyter": {
     "outputs_hidden": false
    }
   },
   "outputs": [],
   "source": [
    "from bashiri import Bashiri, Mode"
   ]
  },
  {
   "cell_type": "code",
   "execution_count": 12,
   "id": "fd71b3128e3801f0",
   "metadata": {
    "ExecuteTime": {
     "end_time": "2025-07-23T22:15:24.574938Z",
     "start_time": "2025-07-23T22:15:24.572593Z"
    },
    "collapsed": false,
    "jupyter": {
     "outputs_hidden": false
    }
   },
   "outputs": [],
   "source": [
    "passing, failing = (\n",
    "    [[\"3\", \"3\", \"5\"], [\"1\", \"2\", \"3\"], [\"3\", \"2\", \"1\"], [\"5\", \"5\", \"1\"], [\"5\", \"3\", \"4\"], [\"-1\", \"-1\", \"4\"]], \n",
    "    [[\"2\", \"1\", \"3\"], [\"2\", \"-1\", \"3\"]]\n",
    ")"
   ]
  },
  {
   "cell_type": "code",
   "execution_count": 13,
   "id": "91ad02b45e3b4430",
   "metadata": {
    "ExecuteTime": {
     "end_time": "2025-07-23T22:15:24.586190Z",
     "start_time": "2025-07-23T22:15:24.582777Z"
    },
    "collapsed": false,
    "jupyter": {
     "outputs_hidden": false
    }
   },
   "outputs": [],
   "source": [
    "oracle = Bashiri(\n",
    "    middle_py,\n",
    "    (passing, failing),\n",
    "    access=tmp_py,\n",
    "    mode=Mode.SYSTEM_TEST,\n",
    "    mapping=\"middle.json\",\n",
    "    work_dir=\".\",\n",
    ")"
   ]
  },
  {
   "cell_type": "code",
   "execution_count": 14,
   "id": "56969fcdcfe4c13e",
   "metadata": {
    "ExecuteTime": {
     "end_time": "2025-07-23T22:15:25.991276Z",
     "start_time": "2025-07-23T22:15:24.592935Z"
    },
    "collapsed": false,
    "jupyter": {
     "outputs_hidden": false
    }
   },
   "outputs": [],
   "source": [
    "oracle.learn()"
   ]
  },
  {
   "cell_type": "code",
   "execution_count": 16,
   "id": "b0cbee1b716e1ee8",
   "metadata": {
    "ExecuteTime": {
     "end_time": "2025-07-23T22:15:26.003420Z",
     "start_time": "2025-07-23T22:15:26.001256Z"
    }
   },
   "outputs": [],
   "source": [
    "passing_test = [\"1\", \"2\", \"3\"]"
   ]
  },
  {
   "cell_type": "code",
   "execution_count": 17,
   "id": "a3cd9aab4185010f",
   "metadata": {
    "ExecuteTime": {
     "end_time": "2025-07-24T00:17:20.914016Z",
     "start_time": "2025-07-24T00:17:20.909706Z"
    }
   },
   "outputs": [
    {
     "data": {
      "text/plain": [
       "True"
      ]
     },
     "execution_count": 17,
     "metadata": {},
     "output_type": "execute_result"
    }
   ],
   "source": [
    "middle(1, 2, 3) == 2"
   ]
  },
  {
   "cell_type": "code",
   "execution_count": 18,
   "id": "d639d1caf8c1de9b",
   "metadata": {
    "ExecuteTime": {
     "end_time": "2025-07-23T22:15:26.076740Z",
     "start_time": "2025-07-23T22:15:26.015967Z"
    }
   },
   "outputs": [
    {
     "data": {
      "text/plain": [
       "<Label.NO_BUG: 0>"
      ]
     },
     "execution_count": 18,
     "metadata": {},
     "output_type": "execute_result"
    }
   ],
   "source": [
    "oracle.predict(passing_test)"
   ]
  },
  {
   "cell_type": "code",
   "execution_count": 19,
   "id": "17406a55071599fb",
   "metadata": {
    "ExecuteTime": {
     "end_time": "2025-07-23T22:15:26.082526Z",
     "start_time": "2025-07-23T22:15:26.079981Z"
    }
   },
   "outputs": [],
   "source": [
    "failing_test = [\"3\", \"2\", \"8\"]"
   ]
  },
  {
   "cell_type": "code",
   "execution_count": 20,
   "id": "c7b157bcef74e761",
   "metadata": {
    "ExecuteTime": {
     "end_time": "2025-07-24T00:17:32.783264Z",
     "start_time": "2025-07-24T00:17:32.780313Z"
    }
   },
   "outputs": [
    {
     "data": {
      "text/plain": [
       "False"
      ]
     },
     "execution_count": 20,
     "metadata": {},
     "output_type": "execute_result"
    }
   ],
   "source": [
    "middle(3, 2, 8) == 3"
   ]
  },
  {
   "cell_type": "code",
   "execution_count": 21,
   "id": "688ab5d955301f79",
   "metadata": {
    "ExecuteTime": {
     "end_time": "2025-07-23T22:15:36.269889Z",
     "start_time": "2025-07-23T22:15:36.199511Z"
    }
   },
   "outputs": [
    {
     "data": {
      "text/plain": [
       "<Label.BUG: 1>"
      ]
     },
     "execution_count": 21,
     "metadata": {},
     "output_type": "execute_result"
    }
   ],
   "source": [
    "oracle.predict(failing_test)"
   ]
  },
  {
   "cell_type": "code",
   "execution_count": null,
   "id": "df5f457e-e5b0-4007-84aa-b473866a82a5",
   "metadata": {},
   "outputs": [],
   "source": []
  }
 ],
 "metadata": {
  "kernelspec": {
   "display_name": "Python 3 (ipykernel)",
   "language": "python",
   "name": "python3"
  },
  "language_info": {
   "codemirror_mode": {
    "name": "ipython",
    "version": 3
   },
   "file_extension": ".py",
   "mimetype": "text/x-python",
   "name": "python",
   "nbconvert_exporter": "python",
   "pygments_lexer": "ipython3",
   "version": "3.11.1"
  }
 },
 "nbformat": 4,
 "nbformat_minor": 5
}
