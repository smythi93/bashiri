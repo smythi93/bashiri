{
 "cells": [
  {
   "cell_type": "code",
   "id": "initial_id",
   "metadata": {
    "collapsed": true,
    "ExecuteTime": {
     "end_time": "2024-06-11T13:28:18.750893Z",
     "start_time": "2024-06-11T13:28:18.744591Z"
    }
   },
   "source": [
    "def merge_correct(a, b):\n",
    "    c = []\n",
    "    a_idx = 0\n",
    "    b_idx = 0\n",
    "    while a_idx < len(a) and b_idx < len(b):\n",
    "        if a[a_idx] < b[b_idx]:\n",
    "            c.append(a[a_idx])\n",
    "            a_idx += 1\n",
    "        else:\n",
    "            c.append(b[b_idx])\n",
    "            b_idx += 1\n",
    "    c += a[a_idx:]\n",
    "    c += b[b_idx:]\n",
    "    return c\n",
    "\n",
    "def merge_sort_correct(arr):\n",
    "    if len(arr) > 1:\n",
    "        mid = len(arr) // 2\n",
    "        left = arr[:mid]\n",
    "        right = arr[mid:]\n",
    "        left = merge_sort_correct(left)\n",
    "        right = merge_sort_correct(right)\n",
    "        return merge_correct(left, right)\n",
    "    return arr"
   ],
   "outputs": [],
   "execution_count": 2
  },
  {
   "metadata": {
    "ExecuteTime": {
     "end_time": "2024-06-11T13:28:19.360444Z",
     "start_time": "2024-06-11T13:28:19.354380Z"
    }
   },
   "cell_type": "code",
   "source": [
    "def merge_incorrect(a, b):\n",
    "    c = []\n",
    "    a_idx = 0\n",
    "    b_idx = 0\n",
    "    while a_idx < len(a) and b_idx < len(b):\n",
    "        if a[a_idx] > b[b_idx]:\n",
    "            c.append(a[a_idx])\n",
    "            a_idx += 1\n",
    "        else:\n",
    "            c.append(b[b_idx])\n",
    "            b_idx += 1\n",
    "    c += a[a_idx:]\n",
    "    c += b[b_idx:]\n",
    "    return c\n",
    "\n",
    "def merge_sort_incorrect(arr):\n",
    "    if len(arr) > 1:\n",
    "        mid = len(arr) // 2\n",
    "        left = arr[:mid]\n",
    "        right = arr[mid:]\n",
    "        left = merge_sort_incorrect(left)\n",
    "        right = merge_sort_incorrect(right)\n",
    "        return merge_incorrect(left, right)\n",
    "    return arr"
   ],
   "id": "66ce9a7eabe0d136",
   "outputs": [],
   "execution_count": 3
  },
  {
   "metadata": {},
   "cell_type": "code",
   "outputs": [],
   "execution_count": null,
   "source": [
    "def oracle(arr, output: str):\n",
    "    actual = eval(output)\n",
    "    expected = sorted(arr)\n",
    "    return actual == expected"
   ],
   "id": "7a2aac82a03e8c08"
  }
 ],
 "metadata": {
  "kernelspec": {
   "display_name": "Python 3",
   "language": "python",
   "name": "python3"
  },
  "language_info": {
   "codemirror_mode": {
    "name": "ipython",
    "version": 2
   },
   "file_extension": ".py",
   "mimetype": "text/x-python",
   "name": "python",
   "nbconvert_exporter": "python",
   "pygments_lexer": "ipython2",
   "version": "2.7.6"
  }
 },
 "nbformat": 4,
 "nbformat_minor": 5
}
