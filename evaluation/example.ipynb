{
 "cells": [
  {
   "cell_type": "code",
   "id": "initial_id",
   "metadata": {
    "collapsed": true,
    "ExecuteTime": {
     "end_time": "2024-11-05T11:27:05.087514Z",
     "start_time": "2024-11-05T11:27:05.078056Z"
    }
   },
   "source": [
    "def middle(x, y, z):\n",
    "    if y < z:\n",
    "        if x < y:\n",
    "            return y\n",
    "        elif x < z:\n",
    "            return y\n",
    "    else:\n",
    "        if x > y:\n",
    "            return y\n",
    "        elif x > z:\n",
    "            return x\n",
    "    return z"
   ],
   "outputs": [],
   "execution_count": 1
  },
  {
   "cell_type": "code",
   "source": [
    "import inspect"
   ],
   "metadata": {
    "collapsed": false,
    "ExecuteTime": {
     "end_time": "2024-11-05T11:27:05.584195Z",
     "start_time": "2024-11-05T11:27:05.580649Z"
    }
   },
   "id": "4cfa82e759fba6fc",
   "outputs": [],
   "execution_count": 2
  },
  {
   "cell_type": "code",
   "source": [
    "source = inspect.getsource(middle)\n",
    "print(source)"
   ],
   "metadata": {
    "collapsed": false,
    "ExecuteTime": {
     "end_time": "2024-11-05T11:27:07.250471Z",
     "start_time": "2024-11-05T11:27:07.244485Z"
    }
   },
   "id": "365a80638eefa8dc",
   "outputs": [
    {
     "name": "stdout",
     "output_type": "stream",
     "text": [
      "def middle(x, y, z):\n",
      "    if y < z:\n",
      "        if x < y:\n",
      "            return y\n",
      "        elif x < z:\n",
      "            return y\n",
      "    else:\n",
      "        if x > y:\n",
      "            return y\n",
      "        elif x > z:\n",
      "            return x\n",
      "    return z\n",
      "\n"
     ]
    }
   ],
   "execution_count": 3
  },
  {
   "cell_type": "code",
   "source": [
    "middle_py = 'middle.py'\n",
    "tmp_py = 'tmp.py'"
   ],
   "metadata": {
    "collapsed": false,
    "ExecuteTime": {
     "end_time": "2024-11-05T11:27:08.569327Z",
     "start_time": "2024-11-05T11:27:08.565017Z"
    }
   },
   "id": "17bec2a7bcd08d95",
   "outputs": [],
   "execution_count": 4
  },
  {
   "cell_type": "code",
   "source": [
    "with open(middle_py, 'w') as fp:\n",
    "    fp.write(\"import sys\\n\\n\" + source + \"\"\"\n",
    "\n",
    "if __name__ == \"__main__\":\n",
    "    print(middle(*list(map(int, sys.argv[1:]))))\n",
    "\n",
    "\"\"\")"
   ],
   "metadata": {
    "collapsed": false,
    "ExecuteTime": {
     "end_time": "2024-11-05T11:27:09.223698Z",
     "start_time": "2024-11-05T11:27:09.219306Z"
    }
   },
   "id": "12c6584a43e441f3",
   "outputs": [],
   "execution_count": 5
  },
  {
   "cell_type": "code",
   "source": [
    "from bashiri.events import instrument"
   ],
   "metadata": {
    "collapsed": false,
    "ExecuteTime": {
     "end_time": "2024-11-05T11:27:12.156455Z",
     "start_time": "2024-11-05T11:27:11.963827Z"
    }
   },
   "id": "4a38e95e682eac44",
   "outputs": [],
   "execution_count": 6
  },
  {
   "cell_type": "code",
   "source": "instrument(middle_py, tmp_py, \"middle.json\")",
   "metadata": {
    "collapsed": false,
    "ExecuteTime": {
     "end_time": "2024-11-05T11:27:12.470263Z",
     "start_time": "2024-11-05T11:27:12.440507Z"
    }
   },
   "id": "5b5f414257825406",
   "outputs": [
    {
     "name": "stderr",
     "output_type": "stream",
     "text": [
      "sflkit :: INFO     :: I found 107 events in middle.py.\n",
      "sflkit :: INFO     :: I found 107 events in middle.py.\n"
     ]
    }
   ],
   "execution_count": 7
  },
  {
   "cell_type": "code",
   "source": [
    "with open(tmp_py, 'r') as fp:\n",
    "    print(fp.read())"
   ],
   "metadata": {
    "collapsed": false,
    "ExecuteTime": {
     "end_time": "2024-11-05T11:27:13.412670Z",
     "start_time": "2024-11-05T11:27:13.407754Z"
    }
   },
   "id": "a2c32c47b3331066",
   "outputs": [
    {
     "name": "stdout",
     "output_type": "stream",
     "text": [
      "import sflkitlib.lib\n",
      "sflkitlib.lib.add_line_event(0)\n",
      "sflkitlib.lib.add_test_line_event(1)\n",
      "import sys\n",
      "\n",
      "def middle(x, y, z):\n",
      "    try:\n",
      "        sflkitlib.lib.add_function_enter_event(2)\n",
      "        sk_tmp_9f269eb6_0 = None\n",
      "        sflkitlib.lib.add_def_event(5, sflkitlib.lib.get_id(x), x, sflkitlib.lib.get_type(x))\n",
      "        sflkitlib.lib.add_def_event(6, sflkitlib.lib.get_id(y), y, sflkitlib.lib.get_type(y))\n",
      "        sflkitlib.lib.add_def_event(7, sflkitlib.lib.get_id(z), z, sflkitlib.lib.get_type(z))\n",
      "        try:\n",
      "            sflkitlib.lib.add_len_event(8, sflkitlib.lib.get_id(x), len(x))\n",
      "        except (AttributeError, TypeError, NameError):\n",
      "            pass\n",
      "        try:\n",
      "            sflkitlib.lib.add_len_event(9, sflkitlib.lib.get_id(y), len(y))\n",
      "        except (AttributeError, TypeError, NameError):\n",
      "            pass\n",
      "        try:\n",
      "            sflkitlib.lib.add_len_event(10, sflkitlib.lib.get_id(z), len(z))\n",
      "        except (AttributeError, TypeError, NameError):\n",
      "            pass\n",
      "        sflkitlib.lib.add_test_def_event(11, sflkitlib.lib.get_id(x))\n",
      "        sflkitlib.lib.add_test_def_event(12, sflkitlib.lib.get_id(y))\n",
      "        sflkitlib.lib.add_test_def_event(13, sflkitlib.lib.get_id(z))\n",
      "        sflkitlib.lib.add_line_event(14)\n",
      "        try:\n",
      "            sflkitlib.lib.add_use_event(17, sflkitlib.lib.get_id(y))\n",
      "        except (AttributeError, TypeError, NameError):\n",
      "            pass\n",
      "        try:\n",
      "            sflkitlib.lib.add_use_event(18, sflkitlib.lib.get_id(z))\n",
      "        except (AttributeError, TypeError, NameError):\n",
      "            pass\n",
      "        sk_tmp_9f269eb6_1 = y < z\n",
      "        sflkitlib.lib.add_condition_event(19, sk_tmp_9f269eb6_1)\n",
      "        sflkitlib.lib.add_test_line_event(20)\n",
      "        try:\n",
      "            sflkitlib.lib.add_test_use_event(21, sflkitlib.lib.get_id(y))\n",
      "        except (AttributeError, TypeError, NameError):\n",
      "            pass\n",
      "        try:\n",
      "            sflkitlib.lib.add_test_use_event(22, sflkitlib.lib.get_id(z))\n",
      "        except (AttributeError, TypeError, NameError):\n",
      "            pass\n",
      "        if sk_tmp_9f269eb6_1:\n",
      "            sflkitlib.lib.add_branch_event(15)\n",
      "            sflkitlib.lib.add_line_event(23)\n",
      "            try:\n",
      "                sflkitlib.lib.add_use_event(26, sflkitlib.lib.get_id(x))\n",
      "            except (AttributeError, TypeError, NameError):\n",
      "                pass\n",
      "            try:\n",
      "                sflkitlib.lib.add_use_event(27, sflkitlib.lib.get_id(y))\n",
      "            except (AttributeError, TypeError, NameError):\n",
      "                pass\n",
      "            sk_tmp_9f269eb6_2 = x < y\n",
      "            sflkitlib.lib.add_condition_event(28, sk_tmp_9f269eb6_2)\n",
      "            sflkitlib.lib.add_test_line_event(29)\n",
      "            try:\n",
      "                sflkitlib.lib.add_test_use_event(30, sflkitlib.lib.get_id(x))\n",
      "            except (AttributeError, TypeError, NameError):\n",
      "                pass\n",
      "            try:\n",
      "                sflkitlib.lib.add_test_use_event(31, sflkitlib.lib.get_id(y))\n",
      "            except (AttributeError, TypeError, NameError):\n",
      "                pass\n",
      "            if sk_tmp_9f269eb6_2:\n",
      "                sflkitlib.lib.add_branch_event(24)\n",
      "                sflkitlib.lib.add_line_event(32)\n",
      "                sk_tmp_9f269eb6_0 = y\n",
      "                sflkitlib.lib.add_function_exit_event(33, sk_tmp_9f269eb6_0, sflkitlib.lib.get_type(sk_tmp_9f269eb6_0))\n",
      "                try:\n",
      "                    sflkitlib.lib.add_use_event(34, sflkitlib.lib.get_id(y))\n",
      "                except (AttributeError, TypeError, NameError):\n",
      "                    pass\n",
      "                sflkitlib.lib.add_test_line_event(35)\n",
      "                try:\n",
      "                    sflkitlib.lib.add_test_use_event(36, sflkitlib.lib.get_id(y))\n",
      "                except (AttributeError, TypeError, NameError):\n",
      "                    pass\n",
      "                return sk_tmp_9f269eb6_0\n",
      "            else:\n",
      "                sflkitlib.lib.add_branch_event(25)\n",
      "                sflkitlib.lib.add_line_event(37)\n",
      "                try:\n",
      "                    sflkitlib.lib.add_use_event(40, sflkitlib.lib.get_id(x))\n",
      "                except (AttributeError, TypeError, NameError):\n",
      "                    pass\n",
      "                try:\n",
      "                    sflkitlib.lib.add_use_event(41, sflkitlib.lib.get_id(z))\n",
      "                except (AttributeError, TypeError, NameError):\n",
      "                    pass\n",
      "                sk_tmp_9f269eb6_3 = x < z\n",
      "                sflkitlib.lib.add_condition_event(42, sk_tmp_9f269eb6_3)\n",
      "                sflkitlib.lib.add_test_line_event(43)\n",
      "                try:\n",
      "                    sflkitlib.lib.add_test_use_event(44, sflkitlib.lib.get_id(x))\n",
      "                except (AttributeError, TypeError, NameError):\n",
      "                    pass\n",
      "                try:\n",
      "                    sflkitlib.lib.add_test_use_event(45, sflkitlib.lib.get_id(z))\n",
      "                except (AttributeError, TypeError, NameError):\n",
      "                    pass\n",
      "                if sk_tmp_9f269eb6_3:\n",
      "                    sflkitlib.lib.add_branch_event(38)\n",
      "                    sflkitlib.lib.add_line_event(46)\n",
      "                    sk_tmp_9f269eb6_0 = y\n",
      "                    sflkitlib.lib.add_function_exit_event(47, sk_tmp_9f269eb6_0, sflkitlib.lib.get_type(sk_tmp_9f269eb6_0))\n",
      "                    try:\n",
      "                        sflkitlib.lib.add_use_event(48, sflkitlib.lib.get_id(y))\n",
      "                    except (AttributeError, TypeError, NameError):\n",
      "                        pass\n",
      "                    sflkitlib.lib.add_test_line_event(49)\n",
      "                    try:\n",
      "                        sflkitlib.lib.add_test_use_event(50, sflkitlib.lib.get_id(y))\n",
      "                    except (AttributeError, TypeError, NameError):\n",
      "                        pass\n",
      "                    return sk_tmp_9f269eb6_0\n",
      "                else:\n",
      "                    sflkitlib.lib.add_branch_event(39)\n",
      "        else:\n",
      "            sflkitlib.lib.add_branch_event(16)\n",
      "            sflkitlib.lib.add_line_event(51)\n",
      "            try:\n",
      "                sflkitlib.lib.add_use_event(54, sflkitlib.lib.get_id(x))\n",
      "            except (AttributeError, TypeError, NameError):\n",
      "                pass\n",
      "            try:\n",
      "                sflkitlib.lib.add_use_event(55, sflkitlib.lib.get_id(y))\n",
      "            except (AttributeError, TypeError, NameError):\n",
      "                pass\n",
      "            sk_tmp_9f269eb6_4 = x > y\n",
      "            sflkitlib.lib.add_condition_event(56, sk_tmp_9f269eb6_4)\n",
      "            sflkitlib.lib.add_test_line_event(57)\n",
      "            try:\n",
      "                sflkitlib.lib.add_test_use_event(58, sflkitlib.lib.get_id(x))\n",
      "            except (AttributeError, TypeError, NameError):\n",
      "                pass\n",
      "            try:\n",
      "                sflkitlib.lib.add_test_use_event(59, sflkitlib.lib.get_id(y))\n",
      "            except (AttributeError, TypeError, NameError):\n",
      "                pass\n",
      "            if sk_tmp_9f269eb6_4:\n",
      "                sflkitlib.lib.add_branch_event(52)\n",
      "                sflkitlib.lib.add_line_event(60)\n",
      "                sk_tmp_9f269eb6_0 = y\n",
      "                sflkitlib.lib.add_function_exit_event(61, sk_tmp_9f269eb6_0, sflkitlib.lib.get_type(sk_tmp_9f269eb6_0))\n",
      "                try:\n",
      "                    sflkitlib.lib.add_use_event(62, sflkitlib.lib.get_id(y))\n",
      "                except (AttributeError, TypeError, NameError):\n",
      "                    pass\n",
      "                sflkitlib.lib.add_test_line_event(63)\n",
      "                try:\n",
      "                    sflkitlib.lib.add_test_use_event(64, sflkitlib.lib.get_id(y))\n",
      "                except (AttributeError, TypeError, NameError):\n",
      "                    pass\n",
      "                return sk_tmp_9f269eb6_0\n",
      "            else:\n",
      "                sflkitlib.lib.add_branch_event(53)\n",
      "                sflkitlib.lib.add_line_event(65)\n",
      "                try:\n",
      "                    sflkitlib.lib.add_use_event(68, sflkitlib.lib.get_id(x))\n",
      "                except (AttributeError, TypeError, NameError):\n",
      "                    pass\n",
      "                try:\n",
      "                    sflkitlib.lib.add_use_event(69, sflkitlib.lib.get_id(z))\n",
      "                except (AttributeError, TypeError, NameError):\n",
      "                    pass\n",
      "                sk_tmp_9f269eb6_5 = x > z\n",
      "                sflkitlib.lib.add_condition_event(70, sk_tmp_9f269eb6_5)\n",
      "                sflkitlib.lib.add_test_line_event(71)\n",
      "                try:\n",
      "                    sflkitlib.lib.add_test_use_event(72, sflkitlib.lib.get_id(x))\n",
      "                except (AttributeError, TypeError, NameError):\n",
      "                    pass\n",
      "                try:\n",
      "                    sflkitlib.lib.add_test_use_event(73, sflkitlib.lib.get_id(z))\n",
      "                except (AttributeError, TypeError, NameError):\n",
      "                    pass\n",
      "                if sk_tmp_9f269eb6_5:\n",
      "                    sflkitlib.lib.add_branch_event(66)\n",
      "                    sflkitlib.lib.add_line_event(74)\n",
      "                    sk_tmp_9f269eb6_0 = x\n",
      "                    sflkitlib.lib.add_function_exit_event(75, sk_tmp_9f269eb6_0, sflkitlib.lib.get_type(sk_tmp_9f269eb6_0))\n",
      "                    try:\n",
      "                        sflkitlib.lib.add_use_event(76, sflkitlib.lib.get_id(x))\n",
      "                    except (AttributeError, TypeError, NameError):\n",
      "                        pass\n",
      "                    sflkitlib.lib.add_test_line_event(77)\n",
      "                    try:\n",
      "                        sflkitlib.lib.add_test_use_event(78, sflkitlib.lib.get_id(x))\n",
      "                    except (AttributeError, TypeError, NameError):\n",
      "                        pass\n",
      "                    return sk_tmp_9f269eb6_0\n",
      "                else:\n",
      "                    sflkitlib.lib.add_branch_event(67)\n",
      "        sflkitlib.lib.add_line_event(79)\n",
      "        sk_tmp_9f269eb6_0 = z\n",
      "        sflkitlib.lib.add_function_exit_event(80, sk_tmp_9f269eb6_0, sflkitlib.lib.get_type(sk_tmp_9f269eb6_0))\n",
      "        try:\n",
      "            sflkitlib.lib.add_use_event(81, sflkitlib.lib.get_id(z))\n",
      "        except (AttributeError, TypeError, NameError):\n",
      "            pass\n",
      "        sflkitlib.lib.add_test_line_event(82)\n",
      "        try:\n",
      "            sflkitlib.lib.add_test_use_event(83, sflkitlib.lib.get_id(z))\n",
      "        except (AttributeError, TypeError, NameError):\n",
      "            pass\n",
      "        return sk_tmp_9f269eb6_0\n",
      "        sflkitlib.lib.add_function_exit_event(3, sk_tmp_9f269eb6_0, sflkitlib.lib.get_type(sk_tmp_9f269eb6_0))\n",
      "    except BaseException as sk_tmp_9f269eb6_6:\n",
      "        sflkitlib.lib.add_function_error_event(4)\n",
      "        raise sk_tmp_9f269eb6_6\n",
      "sflkitlib.lib.add_line_event(84)\n",
      "try:\n",
      "    sflkitlib.lib.add_use_event(87, sflkitlib.lib.get_id(__name__))\n",
      "except (AttributeError, TypeError, NameError):\n",
      "    pass\n",
      "sk_tmp_9f269eb6_7 = __name__ == '__main__'\n",
      "sflkitlib.lib.add_condition_event(88, sk_tmp_9f269eb6_7)\n",
      "sflkitlib.lib.add_test_line_event(89)\n",
      "try:\n",
      "    sflkitlib.lib.add_test_use_event(90, sflkitlib.lib.get_id(__name__))\n",
      "except (AttributeError, TypeError, NameError):\n",
      "    pass\n",
      "if sk_tmp_9f269eb6_7:\n",
      "    sflkitlib.lib.add_branch_event(85)\n",
      "    sflkitlib.lib.add_line_event(91)\n",
      "    try:\n",
      "        sflkitlib.lib.add_use_event(92, sflkitlib.lib.get_id(int))\n",
      "    except (AttributeError, TypeError, NameError):\n",
      "        pass\n",
      "    try:\n",
      "        sflkitlib.lib.add_use_event(93, sflkitlib.lib.get_id(sys))\n",
      "    except (AttributeError, TypeError, NameError):\n",
      "        pass\n",
      "    try:\n",
      "        if not hasattr(sys.__class__, 'argv') or not isinstance(sys.__class__.argv, property):\n",
      "            sflkitlib.lib.add_use_event(94, sflkitlib.lib.get_id(sys.argv))\n",
      "    except (AttributeError, TypeError, NameError):\n",
      "        pass\n",
      "    try:\n",
      "        sflkitlib.lib.add_use_event(95, sflkitlib.lib.get_id(map))\n",
      "    except (AttributeError, TypeError, NameError):\n",
      "        pass\n",
      "    try:\n",
      "        sflkitlib.lib.add_use_event(96, sflkitlib.lib.get_id(list))\n",
      "    except (AttributeError, TypeError, NameError):\n",
      "        pass\n",
      "    try:\n",
      "        sflkitlib.lib.add_use_event(97, sflkitlib.lib.get_id(middle))\n",
      "    except (AttributeError, TypeError, NameError):\n",
      "        pass\n",
      "    try:\n",
      "        sflkitlib.lib.add_use_event(98, sflkitlib.lib.get_id(print))\n",
      "    except (AttributeError, TypeError, NameError):\n",
      "        pass\n",
      "    sflkitlib.lib.add_test_line_event(99)\n",
      "    try:\n",
      "        sflkitlib.lib.add_test_use_event(100, sflkitlib.lib.get_id(int))\n",
      "    except (AttributeError, TypeError, NameError):\n",
      "        pass\n",
      "    try:\n",
      "        sflkitlib.lib.add_test_use_event(101, sflkitlib.lib.get_id(sys))\n",
      "    except (AttributeError, TypeError, NameError):\n",
      "        pass\n",
      "    try:\n",
      "        if not hasattr(sys.__class__, 'argv') or not isinstance(sys.__class__.argv, property):\n",
      "            sflkitlib.lib.add_test_use_event(102, sflkitlib.lib.get_id(sys.argv))\n",
      "    except (AttributeError, TypeError, NameError):\n",
      "        pass\n",
      "    try:\n",
      "        sflkitlib.lib.add_test_use_event(103, sflkitlib.lib.get_id(map))\n",
      "    except (AttributeError, TypeError, NameError):\n",
      "        pass\n",
      "    try:\n",
      "        sflkitlib.lib.add_test_use_event(104, sflkitlib.lib.get_id(list))\n",
      "    except (AttributeError, TypeError, NameError):\n",
      "        pass\n",
      "    try:\n",
      "        sflkitlib.lib.add_test_use_event(105, sflkitlib.lib.get_id(middle))\n",
      "    except (AttributeError, TypeError, NameError):\n",
      "        pass\n",
      "    try:\n",
      "        sflkitlib.lib.add_test_use_event(106, sflkitlib.lib.get_id(print))\n",
      "    except (AttributeError, TypeError, NameError):\n",
      "        pass\n",
      "    print(middle(*list(map(int, sys.argv[1:]))))\n",
      "else:\n",
      "    sflkitlib.lib.add_branch_event(86)\n"
     ]
    }
   ],
   "execution_count": 8
  },
  {
   "cell_type": "code",
   "source": [
    "import subprocess"
   ],
   "metadata": {
    "collapsed": false,
    "ExecuteTime": {
     "end_time": "2024-11-05T11:27:14.271793Z",
     "start_time": "2024-11-05T11:27:14.267383Z"
    }
   },
   "id": "533036428a39aeff",
   "outputs": [],
   "execution_count": 9
  },
  {
   "cell_type": "code",
   "source": [
    "subprocess.run([\"python\", middle_py, \"2\", \"3\", \"1\"])"
   ],
   "metadata": {
    "collapsed": false,
    "ExecuteTime": {
     "end_time": "2024-11-05T11:27:14.905982Z",
     "start_time": "2024-11-05T11:27:14.850714Z"
    }
   },
   "id": "e662ee2fbaa75c97",
   "outputs": [
    {
     "name": "stdout",
     "output_type": "stream",
     "text": [
      "2\n"
     ]
    },
    {
     "data": {
      "text/plain": [
       "CompletedProcess(args=['python', 'middle.py', '2', '3', '1'], returncode=0)"
      ]
     },
     "execution_count": 10,
     "metadata": {},
     "output_type": "execute_result"
    }
   ],
   "execution_count": 10
  },
  {
   "cell_type": "code",
   "source": [
    "from bashiri.events import SystemtestEventCollector\n",
    "from sflkit.features.handler import EventHandler\n",
    "import os"
   ],
   "metadata": {
    "collapsed": false,
    "ExecuteTime": {
     "end_time": "2024-11-05T11:27:16.343841Z",
     "start_time": "2024-11-05T11:27:15.791880Z"
    }
   },
   "id": "a258c9718d82a340",
   "outputs": [],
   "execution_count": 11
  },
  {
   "cell_type": "code",
   "source": [
    "passing, failing = (\n",
    "    [[\"3\", \"3\", \"5\"], [\"1\", \"2\", \"3\"], [\"3\", \"2\", \"1\"], [\"5\", \"5\", \"1\"], [\"5\", \"3\", \"4\"], [\"-1\", \"-1\", \"4\"]], \n",
    "    [[\"2\", \"1\", \"3\"], [\"2\", \"-1\", \"3\"]]\n",
    ")"
   ],
   "metadata": {
    "collapsed": false,
    "ExecuteTime": {
     "end_time": "2024-11-05T11:27:16.511676Z",
     "start_time": "2024-11-05T11:27:16.507369Z"
    }
   },
   "id": "fd71b3128e3801f0",
   "outputs": [],
   "execution_count": 12
  },
  {
   "cell_type": "code",
   "source": [
    "collector = SystemtestEventCollector(os.getcwd(), tmp_py, tmp_py, mapping_path=\"middle.json\")\n",
    "events = collector.get_events((passing, failing))\n",
    "handler = EventHandler()\n",
    "handler.handle_files(events)\n",
    "all_features = handler.builder.get_all_features()"
   ],
   "metadata": {
    "collapsed": false,
    "ExecuteTime": {
     "end_time": "2024-11-05T11:27:17.845220Z",
     "start_time": "2024-11-05T11:27:17.159291Z"
    }
   },
   "id": "91ad02b45e3b4430",
   "outputs": [],
   "execution_count": 13
  },
  {
   "cell_type": "code",
   "source": [
    "from bashiri.learning import DecisionTreeOracle"
   ],
   "metadata": {
    "collapsed": false,
    "ExecuteTime": {
     "end_time": "2024-11-05T11:27:21.311502Z",
     "start_time": "2024-11-05T11:27:18.646136Z"
    }
   },
   "id": "56969fcdcfe4c13e",
   "outputs": [],
   "execution_count": 14
  },
  {
   "cell_type": "code",
   "source": [
    "oracle = DecisionTreeOracle()\n",
    "oracle.fit(\n",
    "    all_features,\n",
    "    handler,\n",
    ")"
   ],
   "metadata": {
    "collapsed": false,
    "ExecuteTime": {
     "end_time": "2024-11-05T11:27:21.930856Z",
     "start_time": "2024-11-05T11:27:21.904204Z"
    }
   },
   "id": "97b9aa6ecb2c547d",
   "outputs": [],
   "execution_count": 15
  },
  {
   "cell_type": "code",
   "source": [
    "explanation = oracle.explain()"
   ],
   "metadata": {
    "collapsed": false,
    "ExecuteTime": {
     "end_time": "2024-11-05T11:27:22.965342Z",
     "start_time": "2024-11-05T11:27:22.954440Z"
    }
   },
   "id": "949015d3dac585f2",
   "outputs": [],
   "execution_count": 16
  },
  {
   "cell_type": "code",
   "source": [
    "import matplotlib.pyplot as plt\n",
    "from heatmap import heatmap"
   ],
   "metadata": {
    "collapsed": false,
    "ExecuteTime": {
     "end_time": "2024-11-05T11:27:23.541942Z",
     "start_time": "2024-11-05T11:27:23.537099Z"
    }
   },
   "id": "72b71c53a9894b38",
   "outputs": [],
   "execution_count": 17
  },
  {
   "cell_type": "code",
   "source": [
    "heatmap(explanation[:,:,1], max_display=3, show=False, plot_width=6.5)\n",
    "plt.savefig(\"shap.pdf\")"
   ],
   "metadata": {
    "collapsed": false,
    "ExecuteTime": {
     "end_time": "2024-11-05T11:27:31.351870Z",
     "start_time": "2024-11-05T11:27:30.323728Z"
    }
   },
   "id": "b2dd9c7d7b004def",
   "outputs": [
    {
     "data": {
      "text/plain": [
       "<Figure size 650x400 with 2 Axes>"
      ],
      "image/png": "[encoded data removed]"
     },
     "metadata": {},
     "output_type": "display_data"
    }
   ],
   "execution_count": 18
  },
  {
   "cell_type": "code",
   "source": [
    "from sklearn import tree"
   ],
   "metadata": {
    "collapsed": false,
    "ExecuteTime": {
     "end_time": "2024-11-05T11:27:43.446991Z",
     "start_time": "2024-11-05T11:27:43.443542Z"
    }
   },
   "id": "5cca03283fdda133",
   "outputs": [],
   "execution_count": 19
  },
  {
   "cell_type": "code",
   "source": [
    "tree.plot_tree(\n",
    "    oracle.model, \n",
    "    feature_names=list(map(lambda f: f.name, all_features)), \n",
    "    class_names=[\"No Bug\", \"Bug\"], \n",
    "    filled=False,\n",
    "    impurity=False\n",
    ")"
   ],
   "metadata": {
    "collapsed": false,
    "ExecuteTime": {
     "end_time": "2024-11-05T11:27:44.495884Z",
     "start_time": "2024-11-05T11:27:44.197742Z"
    }
   },
   "id": "3bd74cc9fed40cf9",
   "outputs": [
    {
     "data": {
      "text/plain": [
       "[Text(0.4, 0.8333333333333334, 'RETURN:middle.py:8:middleNE0 <= 0.5\\nsamples = 8\\nvalue = [6, 2]\\nclass = No Bug'),\n",
       " Text(0.2, 0.5, 'samples = 4\\nvalue = [4, 0]\\nclass = No Bug'),\n",
       " Text(0.30000000000000004, 0.6666666666666667, 'True  '),\n",
       " Text(0.6, 0.5, 'SCALAR_PAIR:middle.py:3:yGEx <= 0.5\\nsamples = 4\\nvalue = [2, 2]\\nclass = No Bug'),\n",
       " Text(0.5, 0.6666666666666667, '  False'),\n",
       " Text(0.4, 0.16666666666666666, 'samples = 2\\nvalue = [0, 2]\\nclass = Bug'),\n",
       " Text(0.8, 0.16666666666666666, 'samples = 2\\nvalue = [2, 0]\\nclass = No Bug')]"
      ]
     },
     "execution_count": 20,
     "metadata": {},
     "output_type": "execute_result"
    },
    {
     "data": {
      "text/plain": [
       "<Figure size 640x480 with 1 Axes>"
      ],
      "image/png": "[encoded data removed]"
     },
     "metadata": {},
     "output_type": "display_data"
    }
   ],
   "execution_count": 20
  },
  {
   "metadata": {},
   "cell_type": "code",
   "outputs": [],
   "execution_count": null,
   "source": "",
   "id": "b0cbee1b716e1ee8"
  }
 ],
 "metadata": {
  "kernelspec": {
   "display_name": "Python 3",
   "language": "python",
   "name": "python3"
  },
  "language_info": {
   "codemirror_mode": {
    "name": "ipython",
    "version": 2
   },
   "file_extension": ".py",
   "mimetype": "text/x-python",
   "name": "python",
   "nbconvert_exporter": "python",
   "pygments_lexer": "ipython2",
   "version": "2.7.6"
  }
 },
 "nbformat": 4,
 "nbformat_minor": 5
}
