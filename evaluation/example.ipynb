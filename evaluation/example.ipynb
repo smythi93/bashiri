{
 "cells": [
  {
   "cell_type": "code",
   "execution_count": 1,
   "id": "initial_id",
   "metadata": {
    "collapsed": true,
    "ExecuteTime": {
     "end_time": "2023-09-26T13:32:43.998118Z",
     "start_time": "2023-09-26T13:32:43.992316Z"
    }
   },
   "outputs": [],
   "source": [
    "def middle(x, y, z):\n",
    "    if y < z:\n",
    "        if x < y:\n",
    "            return y\n",
    "        elif x < z:\n",
    "            return y\n",
    "    else:\n",
    "        if x > y:\n",
    "            return y\n",
    "        elif x > z:\n",
    "            return x\n",
    "    return z"
   ]
  },
  {
   "cell_type": "code",
   "execution_count": 2,
   "outputs": [],
   "source": [
    "import inspect"
   ],
   "metadata": {
    "collapsed": false,
    "ExecuteTime": {
     "end_time": "2023-09-26T13:32:44.196313Z",
     "start_time": "2023-09-26T13:32:44.189753Z"
    }
   },
   "id": "4cfa82e759fba6fc"
  },
  {
   "cell_type": "code",
   "execution_count": 3,
   "outputs": [
    {
     "name": "stdout",
     "output_type": "stream",
     "text": [
      "def middle(x, y, z):\n",
      "    if y < z:\n",
      "        if x < y:\n",
      "            return y\n",
      "        elif x < z:\n",
      "            return y\n",
      "    else:\n",
      "        if x > y:\n",
      "            return y\n",
      "        elif x > z:\n",
      "            return x\n",
      "    return z\n"
     ]
    }
   ],
   "source": [
    "source = inspect.getsource(middle)\n",
    "print(source)"
   ],
   "metadata": {
    "collapsed": false,
    "ExecuteTime": {
     "end_time": "2023-09-26T13:32:44.344996Z",
     "start_time": "2023-09-26T13:32:44.340686Z"
    }
   },
   "id": "365a80638eefa8dc"
  },
  {
   "cell_type": "code",
   "execution_count": 4,
   "outputs": [],
   "source": [
    "middle_py = 'middle.py'\n",
    "tmp_py = 'tmp.py'"
   ],
   "metadata": {
    "collapsed": false,
    "ExecuteTime": {
     "end_time": "2023-09-26T13:32:44.505587Z",
     "start_time": "2023-09-26T13:32:44.499899Z"
    }
   },
   "id": "17bec2a7bcd08d95"
  },
  {
   "cell_type": "code",
   "execution_count": 5,
   "outputs": [],
   "source": [
    "with open(middle_py, 'w') as fp:\n",
    "    fp.write(\"import sys\\n\\n\" + source + \"\"\"\n",
    "\n",
    "if __name__ == \"__main__\":\n",
    "    print(middle(*list(map(int, sys.argv[1:]))))\n",
    "\n",
    "\"\"\")"
   ],
   "metadata": {
    "collapsed": false,
    "ExecuteTime": {
     "end_time": "2023-09-26T13:32:44.660403Z",
     "start_time": "2023-09-26T13:32:44.655726Z"
    }
   },
   "id": "12c6584a43e441f3"
  },
  {
   "cell_type": "code",
   "execution_count": 6,
   "outputs": [],
   "source": [
    "from bashiri.events import instrument"
   ],
   "metadata": {
    "collapsed": false,
    "ExecuteTime": {
     "end_time": "2023-09-26T13:32:44.917927Z",
     "start_time": "2023-09-26T13:32:44.814402Z"
    }
   },
   "id": "4a38e95e682eac44"
  },
  {
   "cell_type": "code",
   "execution_count": 7,
   "outputs": [
    {
     "name": "stderr",
     "output_type": "stream",
     "text": [
      "sflkit :: INFO     :: I found 65 events in middle.py.\n",
      "sflkit :: INFO     :: I found 0 events in middle.py.\n"
     ]
    }
   ],
   "source": [
    "instrument(middle_py, tmp_py)"
   ],
   "metadata": {
    "collapsed": false,
    "ExecuteTime": {
     "end_time": "2023-09-26T13:32:45.016412Z",
     "start_time": "2023-09-26T13:32:44.997588Z"
    }
   },
   "id": "5b5f414257825406"
  },
  {
   "cell_type": "code",
   "execution_count": 8,
   "outputs": [
    {
     "name": "stdout",
     "output_type": "stream",
     "text": [
      "import sflkitlib.lib\n",
      "sflkitlib.lib.add_line_event('middle.py', 1, 0)\n",
      "import sys\n",
      "\n",
      "def middle(x, y, z):\n",
      "    try:\n",
      "        sflkitlib.lib.add_function_enter_event('middle.py', 3, 1, 0, 'middle')\n",
      "        sd_tmp_991072aa_0 = None\n",
      "        sflkitlib.lib.add_def_event('middle.py', 3, 3, 'x', sflkitlib.lib.get_id(x), x, sflkitlib.lib.get_type(x))\n",
      "        sflkitlib.lib.add_def_event('middle.py', 3, 4, 'y', sflkitlib.lib.get_id(y), y, sflkitlib.lib.get_type(y))\n",
      "        sflkitlib.lib.add_def_event('middle.py', 3, 5, 'z', sflkitlib.lib.get_id(z), z, sflkitlib.lib.get_type(z))\n",
      "        sflkitlib.lib.add_line_event('middle.py', 4, 6)\n",
      "        try:\n",
      "            sflkitlib.lib.add_use_event('middle.py', 4, 9, 'y', sflkitlib.lib.get_id(y))\n",
      "        except (AttributeError, TypeError, NameError):\n",
      "            pass\n",
      "        try:\n",
      "            sflkitlib.lib.add_use_event('middle.py', 4, 10, 'z', sflkitlib.lib.get_id(z))\n",
      "        except (AttributeError, TypeError, NameError):\n",
      "            pass\n",
      "        sd_tmp_991072aa_1 = y < z\n",
      "        sflkitlib.lib.add_condition_event('middle.py', 4, 11, 'y < z', sd_tmp_991072aa_1)\n",
      "        if sd_tmp_991072aa_1:\n",
      "            sflkitlib.lib.add_branch_event('middle.py', 4, 7, 0, 1)\n",
      "            sflkitlib.lib.add_line_event('middle.py', 5, 12)\n",
      "            try:\n",
      "                sflkitlib.lib.add_use_event('middle.py', 5, 15, 'x', sflkitlib.lib.get_id(x))\n",
      "            except (AttributeError, TypeError, NameError):\n",
      "                pass\n",
      "            try:\n",
      "                sflkitlib.lib.add_use_event('middle.py', 5, 16, 'y', sflkitlib.lib.get_id(y))\n",
      "            except (AttributeError, TypeError, NameError):\n",
      "                pass\n",
      "            sd_tmp_991072aa_2 = x < y\n",
      "            sflkitlib.lib.add_condition_event('middle.py', 5, 17, 'x < y', sd_tmp_991072aa_2)\n",
      "            if sd_tmp_991072aa_2:\n",
      "                sflkitlib.lib.add_branch_event('middle.py', 5, 13, 2, 3)\n",
      "                sflkitlib.lib.add_line_event('middle.py', 6, 18)\n",
      "                sd_tmp_991072aa_0 = y\n",
      "                sflkitlib.lib.add_function_exit_event('middle.py', 6, 19, 0, 'middle', sd_tmp_991072aa_0, sflkitlib.lib.get_type(sd_tmp_991072aa_0))\n",
      "                try:\n",
      "                    sflkitlib.lib.add_use_event('middle.py', 6, 20, 'y', sflkitlib.lib.get_id(y))\n",
      "                except (AttributeError, TypeError, NameError):\n",
      "                    pass\n",
      "                return sd_tmp_991072aa_0\n",
      "            else:\n",
      "                sflkitlib.lib.add_branch_event('middle.py', 5, 14, 3, 2)\n",
      "                sflkitlib.lib.add_line_event('middle.py', 7, 21)\n",
      "                try:\n",
      "                    sflkitlib.lib.add_use_event('middle.py', 7, 24, 'x', sflkitlib.lib.get_id(x))\n",
      "                except (AttributeError, TypeError, NameError):\n",
      "                    pass\n",
      "                try:\n",
      "                    sflkitlib.lib.add_use_event('middle.py', 7, 25, 'z', sflkitlib.lib.get_id(z))\n",
      "                except (AttributeError, TypeError, NameError):\n",
      "                    pass\n",
      "                sd_tmp_991072aa_3 = x < z\n",
      "                sflkitlib.lib.add_condition_event('middle.py', 7, 26, 'x < z', sd_tmp_991072aa_3)\n",
      "                if sd_tmp_991072aa_3:\n",
      "                    sflkitlib.lib.add_branch_event('middle.py', 7, 22, 4, 5)\n",
      "                    sflkitlib.lib.add_line_event('middle.py', 8, 27)\n",
      "                    sd_tmp_991072aa_0 = y\n",
      "                    sflkitlib.lib.add_function_exit_event('middle.py', 8, 28, 0, 'middle', sd_tmp_991072aa_0, sflkitlib.lib.get_type(sd_tmp_991072aa_0))\n",
      "                    try:\n",
      "                        sflkitlib.lib.add_use_event('middle.py', 8, 29, 'y', sflkitlib.lib.get_id(y))\n",
      "                    except (AttributeError, TypeError, NameError):\n",
      "                        pass\n",
      "                    return sd_tmp_991072aa_0\n",
      "                else:\n",
      "                    sflkitlib.lib.add_branch_event('middle.py', 7, 23, 5, 4)\n",
      "        else:\n",
      "            sflkitlib.lib.add_branch_event('middle.py', 4, 8, 1, 0)\n",
      "            sflkitlib.lib.add_line_event('middle.py', 10, 30)\n",
      "            try:\n",
      "                sflkitlib.lib.add_use_event('middle.py', 10, 33, 'x', sflkitlib.lib.get_id(x))\n",
      "            except (AttributeError, TypeError, NameError):\n",
      "                pass\n",
      "            try:\n",
      "                sflkitlib.lib.add_use_event('middle.py', 10, 34, 'y', sflkitlib.lib.get_id(y))\n",
      "            except (AttributeError, TypeError, NameError):\n",
      "                pass\n",
      "            sd_tmp_991072aa_4 = x > y\n",
      "            sflkitlib.lib.add_condition_event('middle.py', 10, 35, 'x > y', sd_tmp_991072aa_4)\n",
      "            if sd_tmp_991072aa_4:\n",
      "                sflkitlib.lib.add_branch_event('middle.py', 10, 31, 6, 7)\n",
      "                sflkitlib.lib.add_line_event('middle.py', 11, 36)\n",
      "                sd_tmp_991072aa_0 = y\n",
      "                sflkitlib.lib.add_function_exit_event('middle.py', 11, 37, 0, 'middle', sd_tmp_991072aa_0, sflkitlib.lib.get_type(sd_tmp_991072aa_0))\n",
      "                try:\n",
      "                    sflkitlib.lib.add_use_event('middle.py', 11, 38, 'y', sflkitlib.lib.get_id(y))\n",
      "                except (AttributeError, TypeError, NameError):\n",
      "                    pass\n",
      "                return sd_tmp_991072aa_0\n",
      "            else:\n",
      "                sflkitlib.lib.add_branch_event('middle.py', 10, 32, 7, 6)\n",
      "                sflkitlib.lib.add_line_event('middle.py', 12, 39)\n",
      "                try:\n",
      "                    sflkitlib.lib.add_use_event('middle.py', 12, 42, 'x', sflkitlib.lib.get_id(x))\n",
      "                except (AttributeError, TypeError, NameError):\n",
      "                    pass\n",
      "                try:\n",
      "                    sflkitlib.lib.add_use_event('middle.py', 12, 43, 'z', sflkitlib.lib.get_id(z))\n",
      "                except (AttributeError, TypeError, NameError):\n",
      "                    pass\n",
      "                sd_tmp_991072aa_5 = x > z\n",
      "                sflkitlib.lib.add_condition_event('middle.py', 12, 44, 'x > z', sd_tmp_991072aa_5)\n",
      "                if sd_tmp_991072aa_5:\n",
      "                    sflkitlib.lib.add_branch_event('middle.py', 12, 40, 8, 9)\n",
      "                    sflkitlib.lib.add_line_event('middle.py', 13, 45)\n",
      "                    sd_tmp_991072aa_0 = x\n",
      "                    sflkitlib.lib.add_function_exit_event('middle.py', 13, 46, 0, 'middle', sd_tmp_991072aa_0, sflkitlib.lib.get_type(sd_tmp_991072aa_0))\n",
      "                    try:\n",
      "                        sflkitlib.lib.add_use_event('middle.py', 13, 47, 'x', sflkitlib.lib.get_id(x))\n",
      "                    except (AttributeError, TypeError, NameError):\n",
      "                        pass\n",
      "                    return sd_tmp_991072aa_0\n",
      "                else:\n",
      "                    sflkitlib.lib.add_branch_event('middle.py', 12, 41, 9, 8)\n",
      "        sflkitlib.lib.add_line_event('middle.py', 14, 48)\n",
      "        sd_tmp_991072aa_0 = z\n",
      "        sflkitlib.lib.add_function_exit_event('middle.py', 14, 49, 0, 'middle', sd_tmp_991072aa_0, sflkitlib.lib.get_type(sd_tmp_991072aa_0))\n",
      "        try:\n",
      "            sflkitlib.lib.add_use_event('middle.py', 14, 50, 'z', sflkitlib.lib.get_id(z))\n",
      "        except (AttributeError, TypeError, NameError):\n",
      "            pass\n",
      "        return sd_tmp_991072aa_0\n",
      "        sflkitlib.lib.add_function_exit_event('middle.py', 3, 2, 0, 'middle', sd_tmp_991072aa_0, sflkitlib.lib.get_type(sd_tmp_991072aa_0))\n",
      "    except BaseException as sd_tmp_991072aa_6:\n",
      "        sflkitlib.lib.add_function_error_event('middle.py', 3, 2, 0, 'middle')\n",
      "        raise sd_tmp_991072aa_6\n",
      "sflkitlib.lib.add_line_event('middle.py', 17, 51)\n",
      "try:\n",
      "    sflkitlib.lib.add_use_event('middle.py', 17, 54, '__name__', sflkitlib.lib.get_id(__name__))\n",
      "except (AttributeError, TypeError, NameError):\n",
      "    pass\n",
      "sd_tmp_991072aa_7 = __name__ == '__main__'\n",
      "sflkitlib.lib.add_condition_event('middle.py', 17, 55, \"__name__ == '__main__'\", sd_tmp_991072aa_7)\n",
      "if sd_tmp_991072aa_7:\n",
      "    sflkitlib.lib.add_branch_event('middle.py', 17, 52, 10, 11)\n",
      "    sflkitlib.lib.add_line_event('middle.py', 18, 56)\n",
      "    try:\n",
      "        sflkitlib.lib.add_use_event('middle.py', 18, 57, 'int', sflkitlib.lib.get_id(int))\n",
      "    except (AttributeError, TypeError, NameError):\n",
      "        pass\n",
      "    try:\n",
      "        sflkitlib.lib.add_use_event('middle.py', 18, 58, 'sys', sflkitlib.lib.get_id(sys))\n",
      "    except (AttributeError, TypeError, NameError):\n",
      "        pass\n",
      "    try:\n",
      "        if not hasattr(sys.__class__, 'argv') or not isinstance(sys.__class__.argv, property):\n",
      "            sflkitlib.lib.add_use_event('middle.py', 18, 59, 'sys.argv', sflkitlib.lib.get_id(sys.argv))\n",
      "    except (AttributeError, TypeError, NameError):\n",
      "        pass\n",
      "    try:\n",
      "        sflkitlib.lib.add_use_event('middle.py', 18, 60, 'map', sflkitlib.lib.get_id(map))\n",
      "    except (AttributeError, TypeError, NameError):\n",
      "        pass\n",
      "    try:\n",
      "        sflkitlib.lib.add_use_event('middle.py', 18, 61, 'list', sflkitlib.lib.get_id(list))\n",
      "    except (AttributeError, TypeError, NameError):\n",
      "        pass\n",
      "    try:\n",
      "        sflkitlib.lib.add_use_event('middle.py', 18, 62, 'middle', sflkitlib.lib.get_id(middle))\n",
      "    except (AttributeError, TypeError, NameError):\n",
      "        pass\n",
      "    try:\n",
      "        sflkitlib.lib.add_use_event('middle.py', 18, 63, 'print', sflkitlib.lib.get_id(print))\n",
      "    except (AttributeError, TypeError, NameError):\n",
      "        pass\n",
      "    print(middle(*list(map(int, sys.argv[1:]))))\n",
      "else:\n",
      "    sflkitlib.lib.add_branch_event('middle.py', 17, 53, 11, 10)\n"
     ]
    }
   ],
   "source": [
    "with open(tmp_py, 'r') as fp:\n",
    "    print(fp.read())"
   ],
   "metadata": {
    "collapsed": false,
    "ExecuteTime": {
     "end_time": "2023-09-26T13:32:45.179637Z",
     "start_time": "2023-09-26T13:32:45.174210Z"
    }
   },
   "id": "a2c32c47b3331066"
  },
  {
   "cell_type": "code",
   "execution_count": 9,
   "outputs": [],
   "source": [
    "import subprocess"
   ],
   "metadata": {
    "collapsed": false,
    "ExecuteTime": {
     "end_time": "2023-09-26T13:32:45.325320Z",
     "start_time": "2023-09-26T13:32:45.318827Z"
    }
   },
   "id": "533036428a39aeff"
  },
  {
   "cell_type": "code",
   "execution_count": 10,
   "outputs": [
    {
     "name": "stdout",
     "output_type": "stream",
     "text": [
      "2\n"
     ]
    },
    {
     "data": {
      "text/plain": "CompletedProcess(args=['python', 'middle.py', '2', '3', '1'], returncode=0)"
     },
     "execution_count": 10,
     "metadata": {},
     "output_type": "execute_result"
    }
   ],
   "source": [
    "subprocess.run([\"python\", middle_py, \"2\", \"3\", \"1\"])"
   ],
   "metadata": {
    "collapsed": false,
    "ExecuteTime": {
     "end_time": "2023-09-26T13:32:45.532651Z",
     "start_time": "2023-09-26T13:32:45.492311Z"
    }
   },
   "id": "e662ee2fbaa75c97"
  },
  {
   "cell_type": "code",
   "execution_count": 11,
   "outputs": [],
   "source": [
    "from bashiri.events import SystemtestEventCollector\n",
    "from bashiri.features import Handler\n",
    "import os"
   ],
   "metadata": {
    "collapsed": false,
    "ExecuteTime": {
     "end_time": "2023-09-26T13:32:45.677193Z",
     "start_time": "2023-09-26T13:32:45.670926Z"
    }
   },
   "id": "a258c9718d82a340"
  },
  {
   "cell_type": "code",
   "execution_count": 12,
   "outputs": [],
   "source": [
    "passing, failing = (\n",
    "    [[\"3\", \"3\", \"5\"], [\"1\", \"2\", \"3\"], [\"3\", \"2\", \"1\"], [\"5\", \"5\", \"1\"], [\"5\", \"3\", \"4\"], [\"-1\", \"-1\", \"4\"]], \n",
    "    [[\"2\", \"1\", \"3\"], [\"2\", \"-1\", \"3\"]]\n",
    ")"
   ],
   "metadata": {
    "collapsed": false,
    "ExecuteTime": {
     "end_time": "2023-09-26T13:32:45.875708Z",
     "start_time": "2023-09-26T13:32:45.870832Z"
    }
   },
   "id": "fd71b3128e3801f0"
  },
  {
   "cell_type": "code",
   "execution_count": 13,
   "outputs": [],
   "source": [
    "collector = SystemtestEventCollector(os.getcwd(), tmp_py)\n",
    "events = collector.get_events((passing, failing))\n",
    "handler = Handler()\n",
    "handler.handle_files(events)\n",
    "all_features = handler.feature_builder.get_all_features()"
   ],
   "metadata": {
    "collapsed": false,
    "ExecuteTime": {
     "end_time": "2023-09-26T13:32:46.543142Z",
     "start_time": "2023-09-26T13:32:46.095287Z"
    }
   },
   "id": "91ad02b45e3b4430"
  },
  {
   "cell_type": "code",
   "execution_count": 14,
   "outputs": [
    {
     "name": "stderr",
     "output_type": "stream",
     "text": [
      "Using `tqdm.autonotebook.tqdm` in notebook mode. Use `tqdm.tqdm` instead to force console mode (e.g. in jupyter console)\n"
     ]
    }
   ],
   "source": [
    "from bashiri.learning import DecisionTreeOracle"
   ],
   "metadata": {
    "collapsed": false,
    "ExecuteTime": {
     "end_time": "2023-09-26T13:32:48.406976Z",
     "start_time": "2023-09-26T13:32:46.545638Z"
    }
   },
   "id": "56969fcdcfe4c13e"
  },
  {
   "cell_type": "code",
   "execution_count": 15,
   "outputs": [],
   "source": [
    "oracle = DecisionTreeOracle()\n",
    "oracle.fit(\n",
    "    all_features,\n",
    "    handler.feature_builder.get_vectors(),\n",
    ")"
   ],
   "metadata": {
    "collapsed": false,
    "ExecuteTime": {
     "end_time": "2023-09-26T13:32:48.415278Z",
     "start_time": "2023-09-26T13:32:48.405339Z"
    }
   },
   "id": "97b9aa6ecb2c547d"
  },
  {
   "cell_type": "code",
   "execution_count": 16,
   "outputs": [],
   "source": [
    "explanation = oracle.explain()"
   ],
   "metadata": {
    "collapsed": false,
    "ExecuteTime": {
     "end_time": "2023-09-26T13:32:48.429324Z",
     "start_time": "2023-09-26T13:32:48.413426Z"
    }
   },
   "id": "949015d3dac585f2"
  },
  {
   "cell_type": "code",
   "execution_count": 17,
   "outputs": [],
   "source": [
    "import matplotlib.pyplot as plt\n",
    "from heatmap import heatmap"
   ],
   "metadata": {
    "collapsed": false,
    "ExecuteTime": {
     "end_time": "2023-09-26T13:32:48.429732Z",
     "start_time": "2023-09-26T13:32:48.422224Z"
    }
   },
   "id": "72b71c53a9894b38"
  },
  {
   "cell_type": "code",
   "execution_count": 24,
   "outputs": [
    {
     "data": {
      "text/plain": "<Figure size 650x400 with 2 Axes>",
      "image/png": "[encoded data removed]"
     },
     "metadata": {},
     "output_type": "display_data"
    }
   ],
   "source": [
    "heatmap(explanation[:,:,1], max_display=3, show=False, plot_width=6.5)\n",
    "plt.savefig(\"shap.pdf\")"
   ],
   "metadata": {
    "collapsed": false,
    "ExecuteTime": {
     "end_time": "2023-09-26T13:34:59.076062Z",
     "start_time": "2023-09-26T13:34:58.814138Z"
    }
   },
   "id": "b2dd9c7d7b004def"
  },
  {
   "cell_type": "code",
   "execution_count": 19,
   "outputs": [
    {
     "data": {
      "text/plain": "(SCALAR_PAIR:middle.py:3:yGEx, LINE:middle.py:8)"
     },
     "execution_count": 19,
     "metadata": {},
     "output_type": "execute_result"
    }
   ],
   "source": [
    "all_features[93], all_features[58]"
   ],
   "metadata": {
    "collapsed": false,
    "ExecuteTime": {
     "end_time": "2023-09-26T13:32:49.158624Z",
     "start_time": "2023-09-26T13:32:49.143348Z"
    }
   },
   "id": "d90436f4efb88abb"
  },
  {
   "cell_type": "code",
   "execution_count": 20,
   "outputs": [],
   "source": [
    "from sklearn import tree"
   ],
   "metadata": {
    "collapsed": false,
    "ExecuteTime": {
     "end_time": "2023-09-26T13:32:49.158873Z",
     "start_time": "2023-09-26T13:32:49.147113Z"
    }
   },
   "id": "5cca03283fdda133"
  },
  {
   "cell_type": "code",
   "execution_count": 25,
   "outputs": [
    {
     "data": {
      "text/plain": "[Text(0.4, 0.8333333333333334, 'LINE:middle.py:8 <= 0.5\\nsamples = 8\\nvalue = [6, 2]\\nclass = No Bug'),\n Text(0.2, 0.5, 'samples = 4\\nvalue = [4, 0]\\nclass = No Bug'),\n Text(0.6, 0.5, 'SCALAR_PAIR:middle.py:3:yGEx <= 0.5\\nsamples = 4\\nvalue = [2, 2]\\nclass = No Bug'),\n Text(0.4, 0.16666666666666666, 'samples = 2\\nvalue = [0, 2]\\nclass = Bug'),\n Text(0.8, 0.16666666666666666, 'samples = 2\\nvalue = [2, 0]\\nclass = No Bug')]"
     },
     "execution_count": 25,
     "metadata": {},
     "output_type": "execute_result"
    },
    {
     "data": {
      "text/plain": "<Figure size 640x480 with 1 Axes>",
      "image/png": "[encoded data removed]"
     },
     "metadata": {},
     "output_type": "display_data"
    }
   ],
   "source": [
    "tree.plot_tree(\n",
    "    oracle.model, \n",
    "    feature_names=list(map(lambda f: f.name, all_features)), \n",
    "    class_names=[\"No Bug\", \"Bug\"], \n",
    "    filled=False,\n",
    "    impurity=False\n",
    ")"
   ],
   "metadata": {
    "collapsed": false,
    "ExecuteTime": {
     "end_time": "2023-09-26T13:43:28.277660Z",
     "start_time": "2023-09-26T13:43:28.041141Z"
    }
   },
   "id": "3bd74cc9fed40cf9"
  },
  {
   "cell_type": "code",
   "execution_count": null,
   "outputs": [],
   "source": [],
   "metadata": {
    "collapsed": false
   },
   "id": "a26878835a98642b"
  }
 ],
 "metadata": {
  "kernelspec": {
   "display_name": "Python 3",
   "language": "python",
   "name": "python3"
  },
  "language_info": {
   "codemirror_mode": {
    "name": "ipython",
    "version": 2
   },
   "file_extension": ".py",
   "mimetype": "text/x-python",
   "name": "python",
   "nbconvert_exporter": "python",
   "pygments_lexer": "ipython2",
   "version": "2.7.6"
  }
 },
 "nbformat": 4,
 "nbformat_minor": 5
}
